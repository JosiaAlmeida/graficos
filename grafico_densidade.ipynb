{
 "cells": [
  {
   "cell_type": "code",
   "execution_count": null,
   "id": "a40717ad-76e0-4c4d-8cc9-120d089e5190",
   "metadata": {},
   "outputs": [],
   "source": []
  }
 ],
 "metadata": {
  "kernelspec": {
   "display_name": "",
   "name": ""
  },
  "language_info": {
   "name": ""
  }
 },
 "nbformat": 4,
 "nbformat_minor": 5
}
